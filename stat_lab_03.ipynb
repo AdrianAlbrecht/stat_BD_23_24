{
 "cells": [
  {
   "cell_type": "code",
   "execution_count": 1,
   "metadata": {},
   "outputs": [],
   "source": [
    "import warnings\n",
    "warnings.filterwarnings('ignore')"
   ]
  },
  {
   "cell_type": "markdown",
   "metadata": {},
   "source": [
    "# Zad 1"
   ]
  },
  {
   "cell_type": "code",
   "execution_count": 2,
   "metadata": {},
   "outputs": [],
   "source": [
    "import numpy as np\n",
    "from scipy.stats import ttest_1samp"
   ]
  },
  {
   "cell_type": "code",
   "execution_count": 3,
   "metadata": {},
   "outputs": [],
   "source": [
    "np.random.seed(42)\n",
    "\n",
    "srednia_populacji = 2\n",
    "odchylenie_populacji = 30\n",
    "liczba_elementow = 200\n",
    "\n",
    "srednia_hipotetyczna = 2.5"
   ]
  },
  {
   "cell_type": "code",
   "execution_count": 4,
   "metadata": {},
   "outputs": [
    {
     "data": {
      "text/plain": [
       "array([ 16.90142459,  -2.14792904,  21.43065614,  47.69089569,\n",
       "        -5.02460124,  -5.02410871,  49.37638447,  25.02304187,\n",
       "       -12.08423158,  18.27680131, -11.90253078, -11.97189261,\n",
       "         9.25886815, -55.39840734, -49.74753498, -14.86862588,\n",
       "       -28.38493361,  11.42741998, -25.24072227, -40.36911104,\n",
       "        45.96946307,  -4.77328901,   4.02584614, -40.74244559,\n",
       "       -14.33148174,   5.32767769, -32.52980732,  13.27094055,\n",
       "       -16.0191607 ,  -6.75081249, -16.05119837,  57.56834554,\n",
       "         1.59508326, -29.73132787,  26.67634736, -34.6253095 ,\n",
       "         8.26590785, -56.79010372, -37.84558147,   7.90583708,\n",
       "        24.1539974 ,   7.14104844,  -1.46944847,  -7.03311087,\n",
       "       -42.35565971, -19.59532625, -11.81916313,  33.71366679,\n",
       "        12.30854869, -50.89120466,  11.72251908,  -9.55246841,\n",
       "       -18.30766001,  20.35028867,  32.92998567,  29.93840357,\n",
       "       -23.1765257 ,  -7.27637128,  11.93790294,  31.26635381,\n",
       "       -12.37522714,  -3.5697693 , -31.19004922, -33.88619872,\n",
       "        26.37577467,  42.68720086,  -0.16030365,  32.10598694,\n",
       "        12.84908075, -17.35359264,  12.84186817,  48.14109699,\n",
       "         0.92521883,  48.93930967, -76.59235312,  26.65707513,\n",
       "         4.61141205,  -6.97022051,   4.7528233 , -57.62706744,\n",
       "        -4.59015664,  12.71337715,  46.33682134, -13.54810655,\n",
       "       -22.25480809, -13.05271131,  29.46206353,  11.86253329,\n",
       "       -13.89280611,  17.39802299,   4.91232648,  31.05934972,\n",
       "       -19.06159282,  -7.8298644 ,  -9.76324459, -41.90544844,\n",
       "        10.88360831,   9.83165817,   2.1534037 ,  -5.037614  ,\n",
       "       -40.46112226, -10.61935968,  -8.2814355 , -22.06831808,\n",
       "        -2.83857135,  14.1215257 ,  58.58557704,   7.23733438,\n",
       "         9.72651172,  -0.23337747, -55.56313646,   1.20458374,\n",
       "         3.8069063 ,  75.89726337,  -3.77082894,  11.04642027,\n",
       "         0.95864691, -33.06034113,  36.28468444,  24.55799098,\n",
       "        25.73095841, -25.28162364,  44.08382933, -40.05553188,\n",
       "        19.60571281,  67.71366877, -27.71608975, -14.98893189,\n",
       "         4.98954095, -13.10426962, -44.51990293,   4.05688924,\n",
       "       -29.86911141,  16.20777292, -25.58272703,  48.49803215,\n",
       "       -21.49759877,  -7.66184549,  26.40551652, -34.92592949,\n",
       "         8.82379804,  41.21428263, -46.22449704,   7.53901576,\n",
       "         9.79648383,  25.45468615, -35.10852133, -37.61369839,\n",
       "        17.65824697,  10.9095402 ,   9.51478551,  12.39344628,\n",
       "       -18.40074165,   8.96761091,  10.7921742 , -19.43054254,\n",
       "        57.97323533,  16.21498763, -33.73910492,  21.69660826,\n",
       "       -27.24045011,  25.61253811,  36.75786737, -22.62046955,\n",
       "        30.90128388,  14.38342781,  26.6618048 ,  58.90378948,\n",
       "        -5.36164348, -20.61208493, -24.68543289, -22.47430855,\n",
       "        -0.31305128,  12.23455924,  10.30072398,  26.81549747,\n",
       "         2.39005676,  45.60602231,  -5.939705  ,  83.605075  ,\n",
       "        20.77002043, -23.71472669, -30.12677494,  16.47417246,\n",
       "        -4.70388356,  23.42001482,  16.19712874,  -0.18486738,\n",
       "       -23.40381154, -43.44541674, -11.39544856,  27.69196383,\n",
       "         8.42281232, -35.37216336,   7.19542778,  13.55952139,\n",
       "       -24.51572309,   6.61175318,   3.74626155, -32.28910893])"
      ]
     },
     "execution_count": 4,
     "metadata": {},
     "output_type": "execute_result"
    }
   ],
   "source": [
    "probka = np.random.normal(srednia_populacji, odchylenie_populacji, liczba_elementow)\n",
    "probka"
   ]
  },
  {
   "cell_type": "code",
   "execution_count": 5,
   "metadata": {},
   "outputs": [],
   "source": [
    "statystyka, p_value = ttest_1samp(probka, srednia_hipotetyczna)"
   ]
  },
  {
   "cell_type": "code",
   "execution_count": 6,
   "metadata": {},
   "outputs": [
    {
     "name": "stdout",
     "output_type": "stream",
     "text": [
      "Statystyka testu t: -0.8724891121311197\n",
      "Wartość p: 0.3839931090277108\n"
     ]
    }
   ],
   "source": [
    "print(f\"Statystyka testu t: {statystyka}\")\n",
    "print(f\"Wartość p: {p_value}\")"
   ]
  },
  {
   "cell_type": "code",
   "execution_count": 7,
   "metadata": {},
   "outputs": [
    {
     "name": "stdout",
     "output_type": "stream",
     "text": [
      "Nie ma podstaw do odrzucenia hipotezy zerowej - brak istotnej różnicy między średnią próby a hipotetyczną średnią populacyjną.\n"
     ]
    }
   ],
   "source": [
    "poziom_istotnosci = 0.05\n",
    "if p_value < poziom_istotnosci:\n",
    "    print(\"Odrzucamy hipotezę zerową - istnieje istotna różnica między średnią próby a hipotetyczną średnią populacyjną.\")\n",
    "else:\n",
    "    print(\"Nie ma podstaw do odrzucenia hipotezy zerowej - brak istotnej różnicy między średnią próby a hipotetyczną średnią populacyjną.\")"
   ]
  },
  {
   "cell_type": "markdown",
   "metadata": {},
   "source": [
    "# Zad 2"
   ]
  },
  {
   "cell_type": "code",
   "execution_count": 8,
   "metadata": {},
   "outputs": [],
   "source": [
    "import pandas as pd\n",
    "from scipy.stats import ttest_1samp"
   ]
  },
  {
   "cell_type": "code",
   "execution_count": 9,
   "metadata": {},
   "outputs": [
    {
     "data": {
      "text/html": [
       "<div>\n",
       "<style scoped>\n",
       "    .dataframe tbody tr th:only-of-type {\n",
       "        vertical-align: middle;\n",
       "    }\n",
       "\n",
       "    .dataframe tbody tr th {\n",
       "        vertical-align: top;\n",
       "    }\n",
       "\n",
       "    .dataframe thead th {\n",
       "        text-align: right;\n",
       "    }\n",
       "</style>\n",
       "<table border=\"1\" class=\"dataframe\">\n",
       "  <thead>\n",
       "    <tr style=\"text-align: right;\">\n",
       "      <th></th>\n",
       "      <th>mies</th>\n",
       "      <th>rok</th>\n",
       "      <th>pepsi</th>\n",
       "      <th>fanta</th>\n",
       "      <th>żywiec</th>\n",
       "      <th>okocim</th>\n",
       "      <th>regionalne</th>\n",
       "      <th>cola</th>\n",
       "      <th>lech</th>\n",
       "    </tr>\n",
       "  </thead>\n",
       "  <tbody>\n",
       "    <tr>\n",
       "      <th>0</th>\n",
       "      <td>1</td>\n",
       "      <td>2001</td>\n",
       "      <td>108447</td>\n",
       "      <td>43302</td>\n",
       "      <td>186385</td>\n",
       "      <td>54301</td>\n",
       "      <td>45065</td>\n",
       "      <td>227013</td>\n",
       "      <td>56306</td>\n",
       "    </tr>\n",
       "  </tbody>\n",
       "</table>\n",
       "</div>"
      ],
      "text/plain": [
       "   mies   rok   pepsi  fanta   żywiec  okocim  regionalne    cola   lech\n",
       "0     1  2001  108447   43302  186385   54301       45065  227013  56306"
      ]
     },
     "execution_count": 9,
     "metadata": {},
     "output_type": "execute_result"
    }
   ],
   "source": [
    "df = pd.read_csv('files/napoje.csv', sep = ';')\n",
    "df.head(1)"
   ]
  },
  {
   "cell_type": "code",
   "execution_count": 10,
   "metadata": {},
   "outputs": [],
   "source": [
    "srednia_lech = 60500\n",
    "srednia_cola = 222000\n",
    "srednia_regionalne = 43500"
   ]
  },
  {
   "cell_type": "code",
   "execution_count": 11,
   "metadata": {},
   "outputs": [],
   "source": [
    "statystyka_lech, p_value_lech = ttest_1samp(df['lech'], srednia_lech)\n",
    "statystyka_cola, p_value_cola = ttest_1samp(df['cola'], srednia_cola)\n",
    "statystyka_regionalne, p_value_regionalne = ttest_1samp(df['regionalne'], srednia_regionalne)\n",
    "poziom_istotnosci = 0.05"
   ]
  },
  {
   "cell_type": "code",
   "execution_count": 12,
   "metadata": {},
   "outputs": [
    {
     "name": "stdout",
     "output_type": "stream",
     "text": [
      "\n",
      "Wyniki testu t-studenta dla piwa Lech:\n",
      "Statystyka testu t: 1.646503944538866\n",
      "Wartość p: 0.10130442686854728\n",
      "Nie ma podstaw do odrzucenia hipotezy zerowej - brak istotnej różnicy między średnią próby a hipotetyczną średnią populacyjną.\n"
     ]
    }
   ],
   "source": [
    "print(\"\\nWyniki testu t-studenta dla piwa Lech:\")\n",
    "print(f\"Statystyka testu t: {statystyka_lech}\")\n",
    "print(f\"Wartość p: {p_value_lech}\")\n",
    "if p_value_lech < poziom_istotnosci:\n",
    "    print(\"Odrzucamy hipotezę zerową - istnieje istotna różnica między średnią próby a hipotetyczną średnią populacyjną.\")\n",
    "else:\n",
    "    print(\"Nie ma podstaw do odrzucenia hipotezy zerowej - brak istotnej różnicy między średnią próby a hipotetyczną średnią populacyjną.\")"
   ]
  },
  {
   "cell_type": "code",
   "execution_count": 13,
   "metadata": {},
   "outputs": [
    {
     "name": "stdout",
     "output_type": "stream",
     "text": [
      "\n",
      "Wyniki testu t-studenta dla coli:\n",
      "Statystyka testu t: 6.391908975571081\n",
      "Wartość p: 1.2249714535216756e-09\n",
      "Odrzucamy hipotezę zerową - istnieje istotna różnica między średnią próby a hipotetyczną średnią populacyjną.\n"
     ]
    }
   ],
   "source": [
    "print(\"\\nWyniki testu t-studenta dla coli:\")\n",
    "print(f\"Statystyka testu t: {statystyka_cola}\")\n",
    "print(f\"Wartość p: {p_value_cola}\")\n",
    "if p_value_cola < poziom_istotnosci:\n",
    "    print(\"Odrzucamy hipotezę zerową - istnieje istotna różnica między średnią próby a hipotetyczną średnią populacyjną.\")\n",
    "else:\n",
    "    print(\"Nie ma podstaw do odrzucenia hipotezy zerowej - brak istotnej różnicy między średnią próby a hipotetyczną średnią populacyjną.\")"
   ]
  },
  {
   "cell_type": "code",
   "execution_count": 14,
   "metadata": {},
   "outputs": [
    {
     "name": "stdout",
     "output_type": "stream",
     "text": [
      "\n",
      "Wyniki testu t-studenta dla piw regionalnych:\n",
      "Statystyka testu t: 17.440927488514944\n",
      "Wartość p: 2.2572528828603765e-41\n",
      "Odrzucamy hipotezę zerową - istnieje istotna różnica między średnią próby a hipotetyczną średnią populacyjną.\n"
     ]
    }
   ],
   "source": [
    "print(\"\\nWyniki testu t-studenta dla piw regionalnych:\")\n",
    "print(f\"Statystyka testu t: {statystyka_regionalne}\")\n",
    "print(f\"Wartość p: {p_value_regionalne}\")\n",
    "if p_value_regionalne < poziom_istotnosci:\n",
    "    print(\"Odrzucamy hipotezę zerową - istnieje istotna różnica między średnią próby a hipotetyczną średnią populacyjną.\")\n",
    "else:\n",
    "    print(\"Nie ma podstaw do odrzucenia hipotezy zerowej - brak istotnej różnicy między średnią próby a hipotetyczną średnią populacyjną.\")"
   ]
  },
  {
   "cell_type": "markdown",
   "metadata": {},
   "source": [
    "# Zad 3"
   ]
  },
  {
   "cell_type": "code",
   "execution_count": 15,
   "metadata": {},
   "outputs": [],
   "source": [
    "from scipy.stats import shapiro"
   ]
  },
  {
   "cell_type": "code",
   "execution_count": 16,
   "metadata": {},
   "outputs": [
    {
     "data": {
      "text/plain": [
       "Index(['mies', 'rok', 'pepsi', 'fanta ', 'żywiec', 'okocim', 'regionalne',\n",
       "       'cola', 'lech'],\n",
       "      dtype='object')"
      ]
     },
     "execution_count": 16,
     "metadata": {},
     "output_type": "execute_result"
    }
   ],
   "source": [
    "df = pd.read_csv('files/napoje.csv', sep = ';')\n",
    "zmienne = df.columns\n",
    "zmienne"
   ]
  },
  {
   "cell_type": "code",
   "execution_count": 17,
   "metadata": {},
   "outputs": [
    {
     "name": "stdout",
     "output_type": "stream",
     "text": [
      "Test normalności dla zmiennej 'mies':\n",
      "Statystyka testu: 0.9405028820037842\n",
      "Wartość p: 4.075907327205641e-07\n",
      "Odrzucamy hipotezę zerową - rozkład nie jest normalny.\n",
      "\n",
      "==================================================\n",
      "\n",
      "Test normalności dla zmiennej 'rok':\n",
      "Statystyka testu: 0.9462482333183289\n",
      "Wartość p: 1.3102297771183657e-06\n",
      "Odrzucamy hipotezę zerową - rozkład nie jest normalny.\n",
      "\n",
      "==================================================\n",
      "\n",
      "Test normalności dla zmiennej 'pepsi':\n",
      "Statystyka testu: 0.9912384748458862\n",
      "Wartość p: 0.2968809902667999\n",
      "Nie ma podstaw do odrzucenia hipotezy zerowej - rozkład jest normalny.\n",
      "\n",
      "==================================================\n",
      "\n",
      "Test normalności dla zmiennej 'fanta ':\n",
      "Statystyka testu: 0.9894830584526062\n",
      "Wartość p: 0.17036965489387512\n",
      "Nie ma podstaw do odrzucenia hipotezy zerowej - rozkład jest normalny.\n",
      "\n",
      "==================================================\n",
      "\n",
      "Test normalności dla zmiennej 'żywiec':\n",
      "Statystyka testu: 0.9913601875305176\n",
      "Wartość p: 0.3080885708332062\n",
      "Nie ma podstaw do odrzucenia hipotezy zerowej - rozkład jest normalny.\n",
      "\n",
      "==================================================\n",
      "\n",
      "Test normalności dla zmiennej 'okocim':\n",
      "Statystyka testu: 0.9875098466873169\n",
      "Wartość p: 0.08890535682439804\n",
      "Nie ma podstaw do odrzucenia hipotezy zerowej - rozkład jest normalny.\n",
      "\n",
      "==================================================\n",
      "\n",
      "Test normalności dla zmiennej 'regionalne':\n",
      "Statystyka testu: 0.936504602432251\n",
      "Wartość p: 1.8769230791804148e-07\n",
      "Odrzucamy hipotezę zerową - rozkład nie jest normalny.\n",
      "\n",
      "==================================================\n",
      "\n",
      "Test normalności dla zmiennej 'cola':\n",
      "Statystyka testu: 0.993564248085022\n",
      "Wartość p: 0.5694407224655151\n",
      "Nie ma podstaw do odrzucenia hipotezy zerowej - rozkład jest normalny.\n",
      "\n",
      "==================================================\n",
      "\n",
      "Test normalności dla zmiennej 'lech':\n",
      "Statystyka testu: 0.9936927556991577\n",
      "Wartość p: 0.5875554084777832\n",
      "Nie ma podstaw do odrzucenia hipotezy zerowej - rozkład jest normalny.\n",
      "\n",
      "==================================================\n",
      "\n"
     ]
    }
   ],
   "source": [
    "for zmienna in zmienne:\n",
    "    statystyka, p_value = shapiro(df[zmienna])\n",
    "    print(f\"Test normalności dla zmiennej '{zmienna}':\")\n",
    "    print(f\"Statystyka testu: {statystyka}\")\n",
    "    print(f\"Wartość p: {p_value}\")\n",
    "    if p_value < 0.05:\n",
    "        print(\"Odrzucamy hipotezę zerową - rozkład nie jest normalny.\")\n",
    "    else:\n",
    "        print(\"Nie ma podstaw do odrzucenia hipotezy zerowej - rozkład jest normalny.\")\n",
    "    print(\"\\n\" + \"=\"*50 + \"\\n\")"
   ]
  },
  {
   "cell_type": "markdown",
   "metadata": {},
   "source": [
    "# Zad 4"
   ]
  },
  {
   "cell_type": "code",
   "execution_count": 18,
   "metadata": {},
   "outputs": [],
   "source": [
    "from scipy.stats import ttest_ind"
   ]
  },
  {
   "cell_type": "code",
   "execution_count": 24,
   "metadata": {},
   "outputs": [],
   "source": [
    "stat_okocim_lech, p_value_okocim_lech = ttest_ind(df['okocim'], df['lech'])\n",
    "stat_fanta_regionalne, p_value_fanta_regionalne = ttest_ind(df['fanta '], df['regionalne'])\n",
    "stat_cola_pepsi, p_value_cola_pepsi = ttest_ind(df['cola'], df['pepsi'])"
   ]
  },
  {
   "cell_type": "code",
   "execution_count": 25,
   "metadata": {},
   "outputs": [
    {
     "name": "stdout",
     "output_type": "stream",
     "text": [
      "Test t-studenta dla par: okocim - lech:\n",
      "Statystyka testu t: -0.8323919685480173\n",
      "Wartość p: 0.4057078093583594\n",
      "Nie ma podstaw do odrzucenia hipotezy zerowej - brak istotnej różnicy między średnimi.\n"
     ]
    }
   ],
   "source": [
    "print(\"Test t-studenta dla par: okocim - lech:\")\n",
    "print(f\"Statystyka testu t: {stat_okocim_lech}\")\n",
    "print(f\"Wartość p: {p_value_okocim_lech}\")\n",
    "\n",
    "if p_value_okocim_lech < 0.05:\n",
    "    print(\"Odrzucamy hipotezę zerową - istnieje istotna różnica między średnimi.\")\n",
    "else:\n",
    "    print(\"Nie ma podstaw do odrzucenia hipotezy zerowej - brak istotnej różnicy między średnimi.\")"
   ]
  },
  {
   "cell_type": "code",
   "execution_count": 26,
   "metadata": {},
   "outputs": [
    {
     "name": "stdout",
     "output_type": "stream",
     "text": [
      "Test t-studenta dla par: fanta - regionalne:\n",
      "Statystyka testu t: -11.013919429372727\n",
      "Wartość p: 1.097001288015355e-24\n",
      "Odrzucamy hipotezę zerową - istnieje istotna różnica między średnimi.\n"
     ]
    }
   ],
   "source": [
    "print(\"Test t-studenta dla par: fanta - regionalne:\")\n",
    "print(f\"Statystyka testu t: {stat_fanta_regionalne}\")\n",
    "print(f\"Wartość p: {p_value_fanta_regionalne}\")\n",
    "\n",
    "if p_value_fanta_regionalne < 0.05:\n",
    "    print(\"Odrzucamy hipotezę zerową - istnieje istotna różnica między średnimi.\")\n",
    "else:\n",
    "    print(\"Nie ma podstaw do odrzucenia hipotezy zerowej - brak istotnej różnicy między średnimi.\")\n"
   ]
  },
  {
   "cell_type": "code",
   "execution_count": 27,
   "metadata": {},
   "outputs": [
    {
     "name": "stdout",
     "output_type": "stream",
     "text": [
      "Test t-studenta dla par: cola - pepsi:\n",
      "Statystyka testu t: 145.61815604546564\n",
      "Wartość p: 0.0\n",
      "Odrzucamy hipotezę zerową - istnieje istotna różnica między średnimi.\n"
     ]
    }
   ],
   "source": [
    "print(\"Test t-studenta dla par: cola - pepsi:\")\n",
    "print(f\"Statystyka testu t: {stat_cola_pepsi}\")\n",
    "print(f\"Wartość p: {p_value_cola_pepsi}\")\n",
    "\n",
    "if p_value_cola_pepsi < 0.05:\n",
    "    print(\"Odrzucamy hipotezę zerową - istnieje istotna różnica między średnimi.\")\n",
    "else:\n",
    "    print(\"Nie ma podstaw do odrzucenia hipotezy zerowej - brak istotnej różnicy między średnimi.\")\n"
   ]
  },
  {
   "cell_type": "markdown",
   "metadata": {},
   "source": [
    "# Zad 5"
   ]
  },
  {
   "cell_type": "code",
   "execution_count": 28,
   "metadata": {},
   "outputs": [],
   "source": [
    "from scipy.stats import levene"
   ]
  },
  {
   "cell_type": "code",
   "execution_count": 30,
   "metadata": {},
   "outputs": [],
   "source": [
    "stat_okocim_lech, p_value_okocim_lech = levene(df['okocim'], df['lech'])\n",
    "stat_zywiec_fanta, p_value_zywiec_fanta = levene(df['żywiec'], df['fanta '])\n",
    "stat_regionalne_cola, p_value_regionalne_cola = levene(df['regionalne'], df['cola'])\n"
   ]
  },
  {
   "cell_type": "code",
   "execution_count": 31,
   "metadata": {},
   "outputs": [
    {
     "name": "stdout",
     "output_type": "stream",
     "text": [
      "Test Levene'a dla par: okocim - lech:\n",
      "Statystyka testu Levene'a: 1.191182232831977\n",
      "Wartość p: 0.2757791126546958\n",
      "Nie ma podstaw do odrzucenia hipotezy zerowej - brak istotnej różnicy w wariancji między grupami.\n"
     ]
    }
   ],
   "source": [
    "print(\"Test Levene'a dla par: okocim - lech:\")\n",
    "print(f\"Statystyka testu Levene'a: {stat_okocim_lech}\")\n",
    "print(f\"Wartość p: {p_value_okocim_lech}\")\n",
    "\n",
    "if p_value_okocim_lech < 0.05:\n",
    "    print(\"Odrzucamy hipotezę zerową - istnieje istotna różnica w wariancji między grupami.\")\n",
    "else:\n",
    "    print(\"Nie ma podstaw do odrzucenia hipotezy zerowej - brak istotnej różnicy w wariancji między grupami.\")\n"
   ]
  },
  {
   "cell_type": "code",
   "execution_count": 32,
   "metadata": {},
   "outputs": [
    {
     "name": "stdout",
     "output_type": "stream",
     "text": [
      "Test Levene'a dla par: żywiec - fanta:\n",
      "Statystyka testu Levene'a: 1.4760992846958803\n",
      "Wartość p: 0.22513624629834209\n",
      "Nie ma podstaw do odrzucenia hipotezy zerowej - brak istotnej różnicy w wariancji między grupami.\n"
     ]
    }
   ],
   "source": [
    "print(\"Test Levene'a dla par: żywiec - fanta:\")\n",
    "print(f\"Statystyka testu Levene'a: {stat_zywiec_fanta}\")\n",
    "print(f\"Wartość p: {p_value_zywiec_fanta}\")\n",
    "\n",
    "if p_value_zywiec_fanta < 0.05:\n",
    "    print(\"Odrzucamy hipotezę zerową - istnieje istotna różnica w wariancji między grupami.\")\n",
    "else:\n",
    "    print(\"Nie ma podstaw do odrzucenia hipotezy zerowej - brak istotnej różnicy w wariancji między grupami.\")\n"
   ]
  },
  {
   "cell_type": "code",
   "execution_count": 33,
   "metadata": {},
   "outputs": [
    {
     "name": "stdout",
     "output_type": "stream",
     "text": [
      "Test Levene'a dla par: regionalne - cola:\n",
      "Statystyka testu Levene'a: 83.85984593010029\n",
      "Wartość p: 3.275749775904902e-18\n",
      "Odrzucamy hipotezę zerową - istnieje istotna różnica w wariancji między grupami.\n"
     ]
    }
   ],
   "source": [
    "print(\"Test Levene'a dla par: regionalne - cola:\")\n",
    "print(f\"Statystyka testu Levene'a: {stat_regionalne_cola}\")\n",
    "print(f\"Wartość p: {p_value_regionalne_cola}\")\n",
    "\n",
    "if p_value_regionalne_cola < 0.05:\n",
    "    print(\"Odrzucamy hipotezę zerową - istnieje istotna różnica w wariancji między grupami.\")\n",
    "else:\n",
    "    print(\"Nie ma podstaw do odrzucenia hipotezy zerowej - brak istotnej różnicy w wariancji między grupami.\")\n"
   ]
  },
  {
   "cell_type": "markdown",
   "metadata": {},
   "source": [
    "# Zad 6"
   ]
  },
  {
   "cell_type": "code",
   "execution_count": 34,
   "metadata": {},
   "outputs": [],
   "source": [
    "piwa_regionalne_2001 = df[df['rok'] == 2001]['regionalne']\n",
    "piwa_regionalne_2015 = df[df['rok'] == 2015]['regionalne']"
   ]
  },
  {
   "cell_type": "code",
   "execution_count": 35,
   "metadata": {},
   "outputs": [],
   "source": [
    "stat_regionalne, p_value_regionalne = ttest_ind(piwa_regionalne_2001, piwa_regionalne_2015)\n"
   ]
  },
  {
   "cell_type": "code",
   "execution_count": 36,
   "metadata": {},
   "outputs": [
    {
     "name": "stdout",
     "output_type": "stream",
     "text": [
      "Test t-studenta dla piw regionalnych w latach 2001 i 2015:\n",
      "Statystyka testu t: -3.5977780582718273\n",
      "Wartość p: 0.0016000242362201897\n",
      "Odrzucamy hipotezę zerową - istnieje istotna różnica między średnimi.\n"
     ]
    }
   ],
   "source": [
    "print(\"Test t-studenta dla piw regionalnych w latach 2001 i 2015:\")\n",
    "print(f\"Statystyka testu t: {stat_regionalne}\")\n",
    "print(f\"Wartość p: {p_value_regionalne}\")\n",
    "\n",
    "if p_value_regionalne < 0.05:\n",
    "    print(\"Odrzucamy hipotezę zerową - istnieje istotna różnica między średnimi.\")\n",
    "else:\n",
    "    print(\"Nie ma podstaw do odrzucenia hipotezy zerowej - brak istotnej różnicy między średnimi.\")\n"
   ]
  },
  {
   "cell_type": "markdown",
   "metadata": {},
   "source": [
    "# Zad 7"
   ]
  },
  {
   "cell_type": "code",
   "execution_count": 37,
   "metadata": {},
   "outputs": [],
   "source": [
    "from scipy.stats import ttest_rel"
   ]
  },
  {
   "cell_type": "code",
   "execution_count": 40,
   "metadata": {},
   "outputs": [
    {
     "data": {
      "text/html": [
       "<div>\n",
       "<style scoped>\n",
       "    .dataframe tbody tr th:only-of-type {\n",
       "        vertical-align: middle;\n",
       "    }\n",
       "\n",
       "    .dataframe tbody tr th {\n",
       "        vertical-align: top;\n",
       "    }\n",
       "\n",
       "    .dataframe thead th {\n",
       "        text-align: right;\n",
       "    }\n",
       "</style>\n",
       "<table border=\"1\" class=\"dataframe\">\n",
       "  <thead>\n",
       "    <tr style=\"text-align: right;\">\n",
       "      <th></th>\n",
       "      <th>mies</th>\n",
       "      <th>pepsi</th>\n",
       "      <th>fanta</th>\n",
       "      <th>żywiec</th>\n",
       "      <th>okocim</th>\n",
       "      <th>regionalne</th>\n",
       "      <th>cola</th>\n",
       "      <th>lech</th>\n",
       "    </tr>\n",
       "  </thead>\n",
       "  <tbody>\n",
       "    <tr>\n",
       "      <th>0</th>\n",
       "      <td>1</td>\n",
       "      <td>119110</td>\n",
       "      <td>41386</td>\n",
       "      <td>186272</td>\n",
       "      <td>64398</td>\n",
       "      <td>55561</td>\n",
       "      <td>215468</td>\n",
       "      <td>68673</td>\n",
       "    </tr>\n",
       "  </tbody>\n",
       "</table>\n",
       "</div>"
      ],
      "text/plain": [
       "   mies   pepsi  fanta   żywiec  okocim  regionalne    cola   lech\n",
       "0     1  119110   41386  186272   64398       55561  215468  68673"
      ]
     },
     "execution_count": 40,
     "metadata": {},
     "output_type": "execute_result"
    }
   ],
   "source": [
    "df_po_reklamie = pd.read_csv('files/napoje_po_reklamie.csv', sep = ';')\n",
    "df_po_reklamie.head(1)"
   ]
  },
  {
   "cell_type": "code",
   "execution_count": 41,
   "metadata": {},
   "outputs": [
    {
     "data": {
      "text/plain": [
       "Index(['mies', 'pepsi', 'fanta ', 'żywiec', 'okocim', 'regionalne', 'cola',\n",
       "       'lech'],\n",
       "      dtype='object')"
      ]
     },
     "execution_count": 41,
     "metadata": {},
     "output_type": "execute_result"
    }
   ],
   "source": [
    "df_po_reklamie.columns"
   ]
  },
  {
   "cell_type": "code",
   "execution_count": 42,
   "metadata": {},
   "outputs": [],
   "source": [
    "coli_2016 = df[df['rok'] == 2016]['cola']\n",
    "fanta_2016 = df[df['rok'] == 2016]['fanta ']\n",
    "pepsi_2016 = df[df['rok'] == 2016]['pepsi']"
   ]
  },
  {
   "cell_type": "code",
   "execution_count": 43,
   "metadata": {},
   "outputs": [],
   "source": [
    "coli_po_reklamie = df_po_reklamie['cola']\n",
    "fanta_po_reklamie = df_po_reklamie['fanta ']\n",
    "pepsi_po_reklamie = df_po_reklamie['pepsi']"
   ]
  },
  {
   "cell_type": "code",
   "execution_count": 44,
   "metadata": {},
   "outputs": [],
   "source": [
    "stat_cola, p_value_cola = ttest_rel(coli_2016, coli_po_reklamie)\n",
    "stat_fanta, p_value_fanta = ttest_rel(fanta_2016, fanta_po_reklamie)\n",
    "stat_pepsi, p_value_pepsi = ttest_rel(pepsi_2016, pepsi_po_reklamie)"
   ]
  },
  {
   "cell_type": "code",
   "execution_count": 45,
   "metadata": {},
   "outputs": [
    {
     "name": "stdout",
     "output_type": "stream",
     "text": [
      "Test t-studenta dla coli:\n",
      "Statystyka testu t: 0.11032676911481809\n",
      "Wartość p: 0.9141373808316627\n",
      "Nie ma podstaw do odrzucenia hipotezy zerowej - brak istotnej różnicy między średnimi.\n"
     ]
    }
   ],
   "source": [
    "print(\"Test t-studenta dla coli:\")\n",
    "print(f\"Statystyka testu t: {stat_cola}\")\n",
    "print(f\"Wartość p: {p_value_cola}\")\n",
    "\n",
    "if p_value_cola < 0.05:\n",
    "    print(\"Odrzucamy hipotezę zerową - istnieje istotna różnica między średnimi.\")\n",
    "else:\n",
    "    print(\"Nie ma podstaw do odrzucenia hipotezy zerowej - brak istotnej różnicy między średnimi.\")\n"
   ]
  },
  {
   "cell_type": "code",
   "execution_count": 46,
   "metadata": {},
   "outputs": [
    {
     "name": "stdout",
     "output_type": "stream",
     "text": [
      "Test t-studenta dla fanty:\n",
      "Statystyka testu t: 0.3199018672121306\n",
      "Wartość p: 0.7550366759257837\n",
      "Nie ma podstaw do odrzucenia hipotezy zerowej - brak istotnej różnicy między średnimi.\n"
     ]
    }
   ],
   "source": [
    "print(\"Test t-studenta dla fanty:\")\n",
    "print(f\"Statystyka testu t: {stat_fanta}\")\n",
    "print(f\"Wartość p: {p_value_fanta}\")\n",
    "\n",
    "if p_value_fanta < 0.05:\n",
    "    print(\"Odrzucamy hipotezę zerową - istnieje istotna różnica między średnimi.\")\n",
    "else:\n",
    "    print(\"Nie ma podstaw do odrzucenia hipotezy zerowej - brak istotnej różnicy między średnimi.\")\n"
   ]
  },
  {
   "cell_type": "code",
   "execution_count": 48,
   "metadata": {},
   "outputs": [
    {
     "name": "stdout",
     "output_type": "stream",
     "text": [
      "Test t-studenta dla pepsi:\n",
      "Statystyka testu t: -0.20520478240138978\n",
      "Wartość p: 0.8411601080767367\n",
      "Nie ma podstaw do odrzucenia hipotezy zerowej - brak istotnej różnicy między średnimi.\n"
     ]
    }
   ],
   "source": [
    "print(\"Test t-studenta dla pepsi:\")\n",
    "print(f\"Statystyka testu t: {stat_pepsi}\")\n",
    "print(f\"Wartość p: {p_value_pepsi}\")\n",
    "\n",
    "if p_value_pepsi < 0.05:\n",
    "    print(\"Odrzucamy hipotezę zerową - istnieje istotna różnica między średnimi.\")\n",
    "else:\n",
    "    print(\"Nie ma podstaw do odrzucenia hipotezy zerowej - brak istotnej różnicy między średnimi.\")\n"
   ]
  }
 ],
 "metadata": {
  "kernelspec": {
   "display_name": "Python 3.10.11 64-bit (microsoft store)",
   "language": "python",
   "name": "python3"
  },
  "language_info": {
   "codemirror_mode": {
    "name": "ipython",
    "version": 3
   },
   "file_extension": ".py",
   "mimetype": "text/x-python",
   "name": "python",
   "nbconvert_exporter": "python",
   "pygments_lexer": "ipython3",
   "version": "3.10.11"
  },
  "orig_nbformat": 4,
  "vscode": {
   "interpreter": {
    "hash": "d3f0d207b648d1175a3b2bbb912118d4848417bdf0b1a5227ab0916c63215186"
   }
  }
 },
 "nbformat": 4,
 "nbformat_minor": 2
}
