{
 "cells": [
  {
   "cell_type": "markdown",
   "metadata": {},
   "source": [
    "# Zad 1"
   ]
  },
  {
   "cell_type": "code",
   "execution_count": 127,
   "metadata": {},
   "outputs": [],
   "source": [
    "import warnings\n",
    "warnings.filterwarnings('ignore')"
   ]
  },
  {
   "cell_type": "code",
   "execution_count": 128,
   "metadata": {},
   "outputs": [],
   "source": [
    "import pandas as pd\n",
    "import requests\n",
    "from io import StringIO"
   ]
  },
  {
   "cell_type": "code",
   "execution_count": 129,
   "metadata": {},
   "outputs": [],
   "source": [
    "url = \"https://extranet.who.int/tme/generateCSV.asp?ds=mdr_estimates\"\n",
    "response = requests.get(url)\n",
    "data_raw = StringIO(response.text)\n",
    "df = pd.read_csv(data_raw)"
   ]
  },
  {
   "cell_type": "code",
   "execution_count": 130,
   "metadata": {},
   "outputs": [
    {
     "data": {
      "text/html": [
       "<div>\n",
       "<style scoped>\n",
       "    .dataframe tbody tr th:only-of-type {\n",
       "        vertical-align: middle;\n",
       "    }\n",
       "\n",
       "    .dataframe tbody tr th {\n",
       "        vertical-align: top;\n",
       "    }\n",
       "\n",
       "    .dataframe thead th {\n",
       "        text-align: right;\n",
       "    }\n",
       "</style>\n",
       "<table border=\"1\" class=\"dataframe\">\n",
       "  <thead>\n",
       "    <tr style=\"text-align: right;\">\n",
       "      <th></th>\n",
       "      <th>country</th>\n",
       "      <th>iso2</th>\n",
       "      <th>iso3</th>\n",
       "      <th>iso_numeric</th>\n",
       "      <th>g_whoregion</th>\n",
       "      <th>year</th>\n",
       "      <th>source_rr_new</th>\n",
       "      <th>e_rr_pct_new</th>\n",
       "      <th>e_rr_pct_new_lo</th>\n",
       "      <th>e_rr_pct_new_hi</th>\n",
       "      <th>source_rr_ret</th>\n",
       "      <th>e_rr_pct_ret</th>\n",
       "      <th>e_rr_pct_ret_lo</th>\n",
       "      <th>e_rr_pct_ret_hi</th>\n",
       "      <th>e_inc_rr_num</th>\n",
       "      <th>e_inc_rr_num_lo</th>\n",
       "      <th>e_inc_rr_num_hi</th>\n",
       "      <th>e_rr_in_notified_labconf_pulm</th>\n",
       "      <th>e_rr_in_notified_labconf_pulm_lo</th>\n",
       "      <th>e_rr_in_notified_labconf_pulm_hi</th>\n",
       "    </tr>\n",
       "  </thead>\n",
       "  <tbody>\n",
       "    <tr>\n",
       "      <th>0</th>\n",
       "      <td>Afghanistan</td>\n",
       "      <td>AF</td>\n",
       "      <td>AFG</td>\n",
       "      <td>4</td>\n",
       "      <td>EMR</td>\n",
       "      <td>2015</td>\n",
       "      <td>Model</td>\n",
       "      <td>4.8</td>\n",
       "      <td>0.42</td>\n",
       "      <td>19.0</td>\n",
       "      <td>Surveillance</td>\n",
       "      <td>6.0</td>\n",
       "      <td>4.1</td>\n",
       "      <td>8.3</td>\n",
       "      <td>3400</td>\n",
       "      <td>0</td>\n",
       "      <td>9800</td>\n",
       "      <td>800.0</td>\n",
       "      <td>70.0</td>\n",
       "      <td>3100.0</td>\n",
       "    </tr>\n",
       "  </tbody>\n",
       "</table>\n",
       "</div>"
      ],
      "text/plain": [
       "       country iso2 iso3  iso_numeric g_whoregion  year source_rr_new  \\\n",
       "0  Afghanistan   AF  AFG            4         EMR  2015         Model   \n",
       "\n",
       "   e_rr_pct_new  e_rr_pct_new_lo  e_rr_pct_new_hi source_rr_ret  e_rr_pct_ret  \\\n",
       "0           4.8             0.42             19.0  Surveillance           6.0   \n",
       "\n",
       "   e_rr_pct_ret_lo  e_rr_pct_ret_hi  e_inc_rr_num  e_inc_rr_num_lo  \\\n",
       "0              4.1              8.3          3400                0   \n",
       "\n",
       "   e_inc_rr_num_hi  e_rr_in_notified_labconf_pulm  \\\n",
       "0             9800                          800.0   \n",
       "\n",
       "   e_rr_in_notified_labconf_pulm_lo  e_rr_in_notified_labconf_pulm_hi  \n",
       "0                              70.0                            3100.0  "
      ]
     },
     "execution_count": 130,
     "metadata": {},
     "output_type": "execute_result"
    }
   ],
   "source": [
    "df.head(1)"
   ]
  },
  {
   "cell_type": "code",
   "execution_count": 131,
   "metadata": {},
   "outputs": [
    {
     "data": {
      "text/plain": [
       "0    4.8\n",
       "1    4.7\n",
       "2    4.6\n",
       "3    4.5\n",
       "4    4.4\n",
       "Name: e_rr_pct_new, dtype: float64"
      ]
     },
     "execution_count": 131,
     "metadata": {},
     "output_type": "execute_result"
    }
   ],
   "source": [
    "wybrana_kolumna = \"e_rr_pct_new\" \n",
    "wybrane_dane = df[wybrana_kolumna]\n",
    "wybrane_dane.head(5)"
   ]
  },
  {
   "cell_type": "code",
   "execution_count": 132,
   "metadata": {},
   "outputs": [
    {
     "data": {
      "text/plain": [
       "count    1720.000000\n",
       "mean        3.725372\n",
       "std         5.751976\n",
       "min         0.260000\n",
       "25%         1.300000\n",
       "50%         2.100000\n",
       "75%         3.300000\n",
       "max        40.000000\n",
       "Name: e_rr_pct_new, dtype: float64"
      ]
     },
     "execution_count": 132,
     "metadata": {},
     "output_type": "execute_result"
    }
   ],
   "source": [
    "statystyki = wybrane_dane.describe()\n",
    "statystyki"
   ]
  },
  {
   "cell_type": "markdown",
   "metadata": {},
   "source": [
    "# Zadanie 2"
   ]
  },
  {
   "cell_type": "code",
   "execution_count": 133,
   "metadata": {},
   "outputs": [],
   "source": [
    "import csv\n",
    "import statistics"
   ]
  },
  {
   "cell_type": "code",
   "execution_count": 134,
   "metadata": {},
   "outputs": [
    {
     "data": {
      "text/plain": [
       "[156,\n",
       " 158,\n",
       " 167,\n",
       " 188,\n",
       " 197,\n",
       " 167,\n",
       " 197,\n",
       " 178,\n",
       " 186,\n",
       " 157,\n",
       " 198,\n",
       " 199,\n",
       " 178,\n",
       " 168,\n",
       " 156,\n",
       " 151,\n",
       " 167,\n",
       " 167]"
      ]
     },
     "execution_count": 134,
     "metadata": {},
     "output_type": "execute_result"
    }
   ],
   "source": [
    "df = pd.read_csv('files/Wzrost.csv', header=None)\n",
    "df = df.values.tolist()\n",
    "df = df[0]\n",
    "df"
   ]
  },
  {
   "cell_type": "code",
   "execution_count": 135,
   "metadata": {},
   "outputs": [
    {
     "name": "stdout",
     "output_type": "stream",
     "text": [
      "Wariancja: 269.6764705882353\n",
      "Odchylenie standardowe: 16.42182908777933\n"
     ]
    }
   ],
   "source": [
    "wariancja = statistics.variance(df)\n",
    "odchylenie_standardowe = statistics.stdev(df)\n",
    "print(f'Wariancja: {wariancja}')\n",
    "print(f'Odchylenie standardowe: {odchylenie_standardowe}')"
   ]
  },
  {
   "cell_type": "markdown",
   "metadata": {},
   "source": [
    "Wariancja (variance) to średnia arytmetyczna kwadratów odchyleń wartości od średniej arytmetycznej. Jest to miara, która opisuje, jak bardzo dane różnią się od średniej. **Wariancja to suma różnic wartości_średniej do wartości aktualnej podniesionych do kwadratu i podzielona przez liczbę wartości.**\n",
    "\n",
    "Odchylenie standardowe (standard deviation) to pierwiastek kwadratowy wariancji. Jest to miara rozproszenia danych, wyrażona w tych samych jednostkach co dane. Wzór na odchylenie standardowe to:\n",
    "odchylenie standardowe. **Odchylenie standardowe to pierwiastek kwadratowy z wariancji.**\n",
    "\n",
    "Obydwie miary pomagają zrozumieć, jak bardzo dane rozpraszają się wokół średniej arytmetycznej. Odchylenie standardowe jest często bardziej intuicyjne, ponieważ jest mierzone w tych samych jednostkach co dane."
   ]
  },
  {
   "cell_type": "markdown",
   "metadata": {},
   "source": [
    "# Zad 3"
   ]
  },
  {
   "cell_type": "code",
   "execution_count": 136,
   "metadata": {},
   "outputs": [],
   "source": [
    "from scipy import stats"
   ]
  },
  {
   "cell_type": "code",
   "execution_count": 137,
   "metadata": {},
   "outputs": [
    {
     "data": {
      "text/html": [
       "<div>\n",
       "<style scoped>\n",
       "    .dataframe tbody tr th:only-of-type {\n",
       "        vertical-align: middle;\n",
       "    }\n",
       "\n",
       "    .dataframe tbody tr th {\n",
       "        vertical-align: top;\n",
       "    }\n",
       "\n",
       "    .dataframe thead th {\n",
       "        text-align: right;\n",
       "    }\n",
       "</style>\n",
       "<table border=\"1\" class=\"dataframe\">\n",
       "  <thead>\n",
       "    <tr style=\"text-align: right;\">\n",
       "      <th></th>\n",
       "      <th>PSU</th>\n",
       "      <th>O2</th>\n",
       "      <th>SecchDisc</th>\n",
       "      <th>temp.</th>\n",
       "      <th>SS</th>\n",
       "      <th>chla</th>\n",
       "      <th>SRP</th>\n",
       "      <th>DOP</th>\n",
       "      <th>PP</th>\n",
       "      <th>TP</th>\n",
       "      <th>...</th>\n",
       "      <th>DOC</th>\n",
       "      <th>TPOC</th>\n",
       "      <th>PhytoBiomassC</th>\n",
       "      <th>CyanobacteriaBiomassC</th>\n",
       "      <th>ChlorophyceaeBiomassC</th>\n",
       "      <th>DiatomsBiomassC</th>\n",
       "      <th>PicoplanktonBiomassC</th>\n",
       "      <th>Airtemperature</th>\n",
       "      <th>Windspeedinsitu</th>\n",
       "      <th>Depth</th>\n",
       "    </tr>\n",
       "  </thead>\n",
       "  <tbody>\n",
       "    <tr>\n",
       "      <th>0</th>\n",
       "      <td>3.757624</td>\n",
       "      <td>9.46</td>\n",
       "      <td>0.60</td>\n",
       "      <td>18.3</td>\n",
       "      <td>52.0</td>\n",
       "      <td>39.32</td>\n",
       "      <td>3.5</td>\n",
       "      <td>11.7</td>\n",
       "      <td>185.0</td>\n",
       "      <td>200.2</td>\n",
       "      <td>...</td>\n",
       "      <td>7.500</td>\n",
       "      <td>8.5650</td>\n",
       "      <td>1.76</td>\n",
       "      <td>0.43</td>\n",
       "      <td>0.51</td>\n",
       "      <td>0.02</td>\n",
       "      <td>0.69</td>\n",
       "      <td>21.7</td>\n",
       "      <td>3.5</td>\n",
       "      <td>3.3</td>\n",
       "    </tr>\n",
       "    <tr>\n",
       "      <th>1</th>\n",
       "      <td>3.504707</td>\n",
       "      <td>9.89</td>\n",
       "      <td>0.60</td>\n",
       "      <td>19.1</td>\n",
       "      <td>50.0</td>\n",
       "      <td>45.87</td>\n",
       "      <td>4.4</td>\n",
       "      <td>17.5</td>\n",
       "      <td>111.3</td>\n",
       "      <td>133.2</td>\n",
       "      <td>...</td>\n",
       "      <td>7.860</td>\n",
       "      <td>8.5200</td>\n",
       "      <td>2.15</td>\n",
       "      <td>1.09</td>\n",
       "      <td>0.47</td>\n",
       "      <td>0.00</td>\n",
       "      <td>0.52</td>\n",
       "      <td>21.6</td>\n",
       "      <td>0.0</td>\n",
       "      <td>3.6</td>\n",
       "    </tr>\n",
       "    <tr>\n",
       "      <th>2</th>\n",
       "      <td>3.757624</td>\n",
       "      <td>9.66</td>\n",
       "      <td>0.50</td>\n",
       "      <td>18.1</td>\n",
       "      <td>59.0</td>\n",
       "      <td>19.66</td>\n",
       "      <td>3.2</td>\n",
       "      <td>22.8</td>\n",
       "      <td>103.4</td>\n",
       "      <td>129.4</td>\n",
       "      <td>...</td>\n",
       "      <td>8.172</td>\n",
       "      <td>8.4915</td>\n",
       "      <td>2.60</td>\n",
       "      <td>1.73</td>\n",
       "      <td>0.27</td>\n",
       "      <td>0.02</td>\n",
       "      <td>0.54</td>\n",
       "      <td>24.9</td>\n",
       "      <td>1.0</td>\n",
       "      <td>3.4</td>\n",
       "    </tr>\n",
       "    <tr>\n",
       "      <th>3</th>\n",
       "      <td>3.107266</td>\n",
       "      <td>10.36</td>\n",
       "      <td>0.50</td>\n",
       "      <td>19.5</td>\n",
       "      <td>46.0</td>\n",
       "      <td>16.38</td>\n",
       "      <td>4.3</td>\n",
       "      <td>22.3</td>\n",
       "      <td>92.7</td>\n",
       "      <td>119.3</td>\n",
       "      <td>...</td>\n",
       "      <td>7.848</td>\n",
       "      <td>8.8320</td>\n",
       "      <td>2.06</td>\n",
       "      <td>0.81</td>\n",
       "      <td>0.46</td>\n",
       "      <td>0.12</td>\n",
       "      <td>0.66</td>\n",
       "      <td>25.1</td>\n",
       "      <td>0.0</td>\n",
       "      <td>2.9</td>\n",
       "    </tr>\n",
       "    <tr>\n",
       "      <th>4</th>\n",
       "      <td>2.619498</td>\n",
       "      <td>11.56</td>\n",
       "      <td>0.45</td>\n",
       "      <td>19.0</td>\n",
       "      <td>42.0</td>\n",
       "      <td>9.83</td>\n",
       "      <td>11.7</td>\n",
       "      <td>30.3</td>\n",
       "      <td>73.2</td>\n",
       "      <td>115.2</td>\n",
       "      <td>...</td>\n",
       "      <td>7.536</td>\n",
       "      <td>9.2400</td>\n",
       "      <td>2.08</td>\n",
       "      <td>1.13</td>\n",
       "      <td>0.33</td>\n",
       "      <td>0.08</td>\n",
       "      <td>0.18</td>\n",
       "      <td>22.5</td>\n",
       "      <td>0.0</td>\n",
       "      <td>3.0</td>\n",
       "    </tr>\n",
       "  </tbody>\n",
       "</table>\n",
       "<p>5 rows × 30 columns</p>\n",
       "</div>"
      ],
      "text/plain": [
       "        PSU     O2  SecchDisc  temp.    SS   chla   SRP   DOP     PP     TP  \\\n",
       "0  3.757624   9.46       0.60   18.3  52.0  39.32   3.5  11.7  185.0  200.2   \n",
       "1  3.504707   9.89       0.60   19.1  50.0  45.87   4.4  17.5  111.3  133.2   \n",
       "2  3.757624   9.66       0.50   18.1  59.0  19.66   3.2  22.8  103.4  129.4   \n",
       "3  3.107266  10.36       0.50   19.5  46.0  16.38   4.3  22.3   92.7  119.3   \n",
       "4  2.619498  11.56       0.45   19.0  42.0   9.83  11.7  30.3   73.2  115.2   \n",
       "\n",
       "   ...    DOC    TPOC  PhytoBiomassC  CyanobacteriaBiomassC  \\\n",
       "0  ...  7.500  8.5650           1.76                   0.43   \n",
       "1  ...  7.860  8.5200           2.15                   1.09   \n",
       "2  ...  8.172  8.4915           2.60                   1.73   \n",
       "3  ...  7.848  8.8320           2.06                   0.81   \n",
       "4  ...  7.536  9.2400           2.08                   1.13   \n",
       "\n",
       "   ChlorophyceaeBiomassC  DiatomsBiomassC  PicoplanktonBiomassC  \\\n",
       "0                   0.51             0.02                  0.69   \n",
       "1                   0.47             0.00                  0.52   \n",
       "2                   0.27             0.02                  0.54   \n",
       "3                   0.46             0.12                  0.66   \n",
       "4                   0.33             0.08                  0.18   \n",
       "\n",
       "   Airtemperature  Windspeedinsitu  Depth  \n",
       "0            21.7              3.5    3.3  \n",
       "1            21.6              0.0    3.6  \n",
       "2            24.9              1.0    3.4  \n",
       "3            25.1              0.0    2.9  \n",
       "4            22.5              0.0    3.0  \n",
       "\n",
       "[5 rows x 30 columns]"
      ]
     },
     "execution_count": 137,
     "metadata": {},
     "output_type": "execute_result"
    }
   ],
   "source": [
    "file_path = 'Kruk_VLagun_156.csv'\n",
    "df = pd.read_csv(file_path)\n",
    "df.head(5)"
   ]
  },
  {
   "cell_type": "code",
   "execution_count": 138,
   "metadata": {},
   "outputs": [],
   "source": [
    "column_name = 'temp.'\n",
    "data = df[column_name]"
   ]
  },
  {
   "cell_type": "code",
   "execution_count": 147,
   "metadata": {},
   "outputs": [
    {
     "name": "stdout",
     "output_type": "stream",
     "text": [
      "\n",
      "Dostępne statystyki opisowe w scipy.stats:\n",
      "['ConstantInputWarning', 'DegenerateDataWarning', 'FitError', 'NearConstantInputWarning', 'NumericalInverseHermite', '__all__', '__builtins__', '__cached__', '__doc__', '__file__', '__loader__', '__name__', '__package__', '__path__', '__spec__', '_axis_nan_policy', '_biasedurn', '_binned_statistic', '_binomtest', '_boost', '_common', '_constants', '_continuous_distns', '_crosstab', '_discrete_distns', '_distn_infrastructure', '_distr_params', '_entropy', '_fit', '_hypotests', '_hypotests_pythran', '_kde', '_ksstats', '_levy_stable', '_mannwhitneyu', '_morestats', '_mstats_basic', '_mstats_extras', '_multivariate', '_mvn', '_page_trend_test', '_qmc', '_qmc_cy', '_relative_risk', '_resampling', '_rvs_sampling', '_sobol', '_statlib', '_stats', '_stats_mstats_common', '_stats_py', '_tukeylambda_stats', '_unuran', '_variation', '_warnings_errors', 'alexandergovern', 'alpha', 'anderson', 'anderson_ksamp', 'anglit', 'ansari', 'arcsine', 'argus', 'barnard_exact', 'bartlett', 'bayes_mvs', 'bernoulli', 'beta', 'betabinom', 'betaprime', 'biasedurn', 'binned_statistic', 'binned_statistic_2d', 'binned_statistic_dd', 'binom', 'binom_test', 'binomtest', 'boltzmann', 'bootstrap', 'boschloo_exact', 'boxcox', 'boxcox_llf', 'boxcox_normmax', 'boxcox_normplot', 'bradford', 'brunnermunzel', 'burr', 'burr12', 'cauchy', 'chi', 'chi2', 'chi2_contingency', 'chisquare', 'circmean', 'circstd', 'circvar', 'combine_pvalues', 'contingency', 'cosine', 'cramervonmises', 'cramervonmises_2samp', 'crystalball', 'cumfreq', 'describe', 'dgamma', 'differential_entropy', 'dirichlet', 'distributions', 'dlaplace', 'dweibull', 'energy_distance', 'entropy', 'epps_singleton_2samp', 'erlang', 'expon', 'exponnorm', 'exponpow', 'exponweib', 'f', 'f_oneway', 'fatiguelife', 'find_repeats', 'fisher_exact', 'fisk', 'fit', 'fligner', 'foldcauchy', 'foldnorm', 'friedmanchisquare', 'gamma', 'gausshyper', 'gaussian_kde', 'genexpon', 'genextreme', 'gengamma', 'genhalflogistic', 'genhyperbolic', 'geninvgauss', 'genlogistic', 'gennorm', 'genpareto', 'geom', 'gibrat', 'gilbrat', 'gmean', 'gompertz', 'gstd', 'gumbel_l', 'gumbel_r', 'gzscore', 'halfcauchy', 'halfgennorm', 'halflogistic', 'halfnorm', 'hmean', 'hypergeom', 'hypsecant', 'invgamma', 'invgauss', 'invweibull', 'invwishart', 'iqr', 'jarque_bera', 'johnsonsb', 'johnsonsu', 'kappa3', 'kappa4', 'kde', 'kendalltau', 'kruskal', 'ks_1samp', 'ks_2samp', 'ksone', 'kstat', 'kstatvar', 'kstest', 'kstwo', 'kstwobign', 'kurtosis', 'kurtosistest', 'laplace', 'laplace_asymmetric', 'levene', 'levy', 'levy_l', 'levy_stable', 'linregress', 'loggamma', 'logistic', 'loglaplace', 'lognorm', 'logser', 'loguniform', 'lomax', 'mannwhitneyu', 'matrix_normal', 'maxwell', 'median_abs_deviation', 'median_test', 'mielke', 'mode', 'moment', 'monte_carlo_test', 'mood', 'morestats', 'moyal', 'mstats', 'mstats_basic', 'mstats_extras', 'multinomial', 'multiscale_graphcorr', 'multivariate_hypergeom', 'multivariate_normal', 'multivariate_t', 'mvn', 'mvsdist', 'nakagami', 'nbinom', 'ncf', 'nchypergeom_fisher', 'nchypergeom_wallenius', 'nct', 'ncx2', 'nhypergeom', 'norm', 'normaltest', 'norminvgauss', 'obrientransform', 'ortho_group', 'page_trend_test', 'pareto', 'pearson3', 'pearsonr', 'percentileofscore', 'permutation_test', 'planck', 'pmean', 'pointbiserialr', 'poisson', 'power_divergence', 'powerlaw', 'powerlognorm', 'powernorm', 'ppcc_max', 'ppcc_plot', 'probplot', 'qmc', 'randint', 'random_correlation', 'rankdata', 'ranksums', 'rayleigh', 'rdist', 'recipinvgauss', 'reciprocal', 'relfreq', 'rice', 'rv_continuous', 'rv_discrete', 'rv_histogram', 'rvs_ratio_uniforms', 'scoreatpercentile', 'sem', 'semicircular', 'shapiro', 'siegelslopes', 'sigmaclip', 'skellam', 'skew', 'skewcauchy', 'skewnorm', 'skewtest', 'somersd', 'spearmanr', 'special_ortho_group', 'statlib', 'stats', 'studentized_range', 't', 'test', 'theilslopes', 'tiecorrect', 'tmax', 'tmean', 'tmin', 'trapezoid', 'trapz', 'triang', 'trim1', 'trim_mean', 'trimboth', 'truncexpon', 'truncnorm', 'truncweibull_min', 'tsem', 'tstd', 'ttest_1samp', 'ttest_ind', 'ttest_ind_from_stats', 'ttest_rel', 'tukey_hsd', 'tukeylambda', 'tvar', 'uniform', 'unitary_group', 'variation', 'vonmises', 'vonmises_line', 'wald', 'wasserstein_distance', 'weibull_max', 'weibull_min', 'weightedtau', 'wilcoxon', 'wishart', 'wrapcauchy', 'yeojohnson', 'yeojohnson_llf', 'yeojohnson_normmax', 'yeojohnson_normplot', 'yulesimon', 'zipf', 'zipfian', 'zmap', 'zscore']\n"
     ]
    }
   ],
   "source": [
    "print(\"\\nDostępne statystyki opisowe w scipy.stats:\")\n",
    "print(dir(stats))"
   ]
  },
  {
   "cell_type": "code",
   "execution_count": 148,
   "metadata": {},
   "outputs": [
    {
     "name": "stdout",
     "output_type": "stream",
     "text": [
      "Statystyki:\n",
      "Średnia: 17.35\n",
      "Wariancja: 9.748451612903224\n",
      "Kurtoza: -0.49889323079971293\n",
      "Skośność: -0.8765918106476862\n"
     ]
    }
   ],
   "source": [
    "stats_csv = stats.describe(data)\n",
    "print(\"Statystyki:\")\n",
    "print(f\"Średnia: {stats_csv.mean}\")\n",
    "print(f\"Wariancja: {stats_csv.variance}\")\n",
    "print(f\"Kurtoza: {stats_csv.kurtosis}\")\n",
    "print(f\"Skośność: {stats_csv.skewness}\")"
   ]
  },
  {
   "cell_type": "markdown",
   "metadata": {},
   "source": [
    "# Zad 4"
   ]
  },
  {
   "cell_type": "code",
   "execution_count": 149,
   "metadata": {},
   "outputs": [],
   "source": [
    "import matplotlib.pyplot as plt"
   ]
  },
  {
   "cell_type": "code",
   "execution_count": 150,
   "metadata": {},
   "outputs": [
    {
     "data": {
      "text/html": [
       "<div>\n",
       "<style scoped>\n",
       "    .dataframe tbody tr th:only-of-type {\n",
       "        vertical-align: middle;\n",
       "    }\n",
       "\n",
       "    .dataframe tbody tr th {\n",
       "        vertical-align: top;\n",
       "    }\n",
       "\n",
       "    .dataframe thead th {\n",
       "        text-align: right;\n",
       "    }\n",
       "</style>\n",
       "<table border=\"1\" class=\"dataframe\">\n",
       "  <thead>\n",
       "    <tr style=\"text-align: right;\">\n",
       "      <th></th>\n",
       "      <th>Gender</th>\n",
       "      <th>FSIQ</th>\n",
       "      <th>VIQ</th>\n",
       "      <th>PIQ</th>\n",
       "      <th>Weight</th>\n",
       "      <th>Height</th>\n",
       "      <th>MRI_Count</th>\n",
       "    </tr>\n",
       "  </thead>\n",
       "  <tbody>\n",
       "    <tr>\n",
       "      <th>1</th>\n",
       "      <td>Female</td>\n",
       "      <td>133</td>\n",
       "      <td>132</td>\n",
       "      <td>124</td>\n",
       "      <td>118</td>\n",
       "      <td>64.5</td>\n",
       "      <td>816932</td>\n",
       "    </tr>\n",
       "    <tr>\n",
       "      <th>2</th>\n",
       "      <td>Male</td>\n",
       "      <td>140</td>\n",
       "      <td>150</td>\n",
       "      <td>124</td>\n",
       "      <td>.</td>\n",
       "      <td>72.5</td>\n",
       "      <td>1001121</td>\n",
       "    </tr>\n",
       "    <tr>\n",
       "      <th>3</th>\n",
       "      <td>Male</td>\n",
       "      <td>139</td>\n",
       "      <td>123</td>\n",
       "      <td>150</td>\n",
       "      <td>143</td>\n",
       "      <td>73.3</td>\n",
       "      <td>1038437</td>\n",
       "    </tr>\n",
       "  </tbody>\n",
       "</table>\n",
       "</div>"
      ],
      "text/plain": [
       "   Gender  FSIQ  VIQ  PIQ Weight Height  MRI_Count\n",
       "1  Female   133  132  124    118   64.5     816932\n",
       "2    Male   140  150  124      .   72.5    1001121\n",
       "3    Male   139  123  150    143   73.3    1038437"
      ]
     },
     "execution_count": 150,
     "metadata": {},
     "output_type": "execute_result"
    }
   ],
   "source": [
    "df = pd.read_csv('files/brain_size.csv', sep=';', index_col = 0)\n",
    "df.head(3)"
   ]
  },
  {
   "cell_type": "code",
   "execution_count": 151,
   "metadata": {},
   "outputs": [
    {
     "name": "stdout",
     "output_type": "stream",
     "text": [
      "Średnia dla kolumny VIQ: 112.35\n"
     ]
    }
   ],
   "source": [
    "srednia_VIQ = df['VIQ'].mean()\n",
    "print(f\"Średnia dla kolumny VIQ: {srednia_VIQ}\")"
   ]
  },
  {
   "cell_type": "code",
   "execution_count": 152,
   "metadata": {},
   "outputs": [
    {
     "name": "stdout",
     "output_type": "stream",
     "text": [
      "Liczba kobiet: 20\n",
      "Liczba mężczyzn: 20\n"
     ]
    },
    {
     "data": {
      "text/plain": [
       "40"
      ]
     },
     "execution_count": 152,
     "metadata": {},
     "output_type": "execute_result"
    }
   ],
   "source": [
    "liczba_kobiet = df[df['Gender'] == 'Female'].shape[0]\n",
    "liczba_mezczyzn = df[df['Gender'] == 'Male'].shape[0]\n",
    "print(f\"Liczba kobiet: {liczba_kobiet}\")\n",
    "print(f\"Liczba mężczyzn: {liczba_mezczyzn}\")\n",
    "df.shape[0]"
   ]
  },
  {
   "cell_type": "code",
   "execution_count": 153,
   "metadata": {},
   "outputs": [
    {
     "data": {
      "image/png": "[encoded data removed]",
      "text/plain": [
       "<Figure size 640x480 with 4 Axes>"
      ]
     },
     "metadata": {},
     "output_type": "display_data"
    }
   ],
   "source": [
    "df[['VIQ', 'PIQ', 'FSIQ']].hist()\n",
    "plt.suptitle('Histogramy dla VIQ, PIQ, FSIQ')\n",
    "plt.show()"
   ]
  },
  {
   "cell_type": "code",
   "execution_count": 154,
   "metadata": {},
   "outputs": [
    {
     "data": {
      "image/png": "[encoded data removed]",
      "text/plain": [
       "<Figure size 640x480 with 4 Axes>"
      ]
     },
     "metadata": {},
     "output_type": "display_data"
    }
   ],
   "source": [
    "df[df['Gender'] == 'Female'][['VIQ', 'PIQ', 'FSIQ']].hist()\n",
    "plt.suptitle('Histogramy dla VIQ, PIQ, FSIQ (kobiety)')\n",
    "plt.show()"
   ]
  }
 ],
 "metadata": {
  "kernelspec": {
   "display_name": "Python 3.10.11 64-bit (microsoft store)",
   "language": "python",
   "name": "python3"
  },
  "language_info": {
   "codemirror_mode": {
    "name": "ipython",
    "version": 3
   },
   "file_extension": ".py",
   "mimetype": "text/x-python",
   "name": "python",
   "nbconvert_exporter": "python",
   "pygments_lexer": "ipython3",
   "version": "3.10.11"
  },
  "orig_nbformat": 4,
  "vscode": {
   "interpreter": {
    "hash": "d3f0d207b648d1175a3b2bbb912118d4848417bdf0b1a5227ab0916c63215186"
   }
  }
 },
 "nbformat": 4,
 "nbformat_minor": 2
}
